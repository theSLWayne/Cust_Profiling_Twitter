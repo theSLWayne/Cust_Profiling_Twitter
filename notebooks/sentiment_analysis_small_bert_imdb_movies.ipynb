{
 "cells": [
  {
   "cell_type": "code",
   "execution_count": 1,
   "metadata": {
    "colab": {
     "base_uri": "https://localhost:8080/"
    },
    "executionInfo": {
     "elapsed": 4476,
     "status": "ok",
     "timestamp": 1626457184705,
     "user": {
      "displayName": "Hiran Hasanka",
      "photoUrl": "https://lh3.googleusercontent.com/a-/AOh14GiFsqMEGOuhjtLJLY1JK3zomSh-kOTaJFp4VitFaA=s64",
      "userId": "12505453789699267562"
     },
     "user_tz": 420
    },
    "id": "Zby6cTdvUfWz",
    "outputId": "f7af4886-3613-4ae0-ac1a-662a70903d1e"
   },
   "outputs": [
    {
     "name": "stdout",
     "output_type": "stream",
     "text": [
      "\u001b[K     |████████████████████████████████| 4.3MB 7.3MB/s \n",
      "\u001b[?25h"
     ]
    }
   ],
   "source": [
    "!pip install -q -U tensorflow-text"
   ]
  },
  {
   "cell_type": "code",
   "execution_count": 2,
   "metadata": {
    "colab": {
     "base_uri": "https://localhost:8080/"
    },
    "executionInfo": {
     "elapsed": 14822,
     "status": "ok",
     "timestamp": 1626457199515,
     "user": {
      "displayName": "Hiran Hasanka",
      "photoUrl": "https://lh3.googleusercontent.com/a-/AOh14GiFsqMEGOuhjtLJLY1JK3zomSh-kOTaJFp4VitFaA=s64",
      "userId": "12505453789699267562"
     },
     "user_tz": 420
    },
    "id": "ZeY1XzXUhLZ7",
    "outputId": "5196a058-319c-4123-d701-c0898433b8a7"
   },
   "outputs": [
    {
     "name": "stdout",
     "output_type": "stream",
     "text": [
      "\u001b[K     |████████████████████████████████| 1.6MB 7.5MB/s \n",
      "\u001b[K     |████████████████████████████████| 51kB 7.4MB/s \n",
      "\u001b[K     |████████████████████████████████| 1.2MB 38.6MB/s \n",
      "\u001b[K     |████████████████████████████████| 37.2MB 73kB/s \n",
      "\u001b[K     |████████████████████████████████| 358kB 48.6MB/s \n",
      "\u001b[K     |████████████████████████████████| 61kB 9.0MB/s \n",
      "\u001b[K     |████████████████████████████████| 645kB 36.5MB/s \n",
      "\u001b[K     |████████████████████████████████| 215kB 44.8MB/s \n",
      "\u001b[K     |████████████████████████████████| 102kB 13.5MB/s \n",
      "\u001b[K     |████████████████████████████████| 686kB 41.1MB/s \n",
      "\u001b[?25h  Building wheel for seqeval (setup.py) ... \u001b[?25l\u001b[?25hdone\n",
      "  Building wheel for py-cpuinfo (setup.py) ... \u001b[?25l\u001b[?25hdone\n"
     ]
    }
   ],
   "source": [
    "!pip install -q tf-models-official"
   ]
  },
  {
   "cell_type": "code",
   "execution_count": 3,
   "metadata": {
    "executionInfo": {
     "elapsed": 1563,
     "status": "ok",
     "timestamp": 1626457201069,
     "user": {
      "displayName": "Hiran Hasanka",
      "photoUrl": "https://lh3.googleusercontent.com/a-/AOh14GiFsqMEGOuhjtLJLY1JK3zomSh-kOTaJFp4VitFaA=s64",
      "userId": "12505453789699267562"
     },
     "user_tz": 420
    },
    "id": "v30mgEmAhcVh"
   },
   "outputs": [],
   "source": [
    "import os\n",
    "import shutil\n",
    "\n",
    "import tensorflow as tf\n",
    "import tensorflow_hub as hub\n",
    "import tensorflow_text as text\n",
    "from official.nlp import optimization  # to create AdamW optimizer\n",
    "\n",
    "import matplotlib.pyplot as plt\n",
    "\n",
    "tf.get_logger().setLevel('ERROR')"
   ]
  },
  {
   "cell_type": "code",
   "execution_count": 4,
   "metadata": {
    "colab": {
     "base_uri": "https://localhost:8080/"
    },
    "executionInfo": {
     "elapsed": 27243,
     "status": "ok",
     "timestamp": 1626457228296,
     "user": {
      "displayName": "Hiran Hasanka",
      "photoUrl": "https://lh3.googleusercontent.com/a-/AOh14GiFsqMEGOuhjtLJLY1JK3zomSh-kOTaJFp4VitFaA=s64",
      "userId": "12505453789699267562"
     },
     "user_tz": 420
    },
    "id": "1Kni99Geh3OD",
    "outputId": "cff14198-1f16-4b10-93ef-beed7b012fbb"
   },
   "outputs": [
    {
     "name": "stdout",
     "output_type": "stream",
     "text": [
      "Downloading data from https://ai.stanford.edu/~amaas/data/sentiment/aclImdb_v1.tar.gz\n",
      "84131840/84125825 [==============================] - 1s 0us/step\n"
     ]
    }
   ],
   "source": [
    "url = 'https://ai.stanford.edu/~amaas/data/sentiment/aclImdb_v1.tar.gz'\n",
    "\n",
    "dataset = tf.keras.utils.get_file('aclImdb_v1.tar.gz', url,\n",
    "                                  untar=True, cache_dir='.',\n",
    "                                  cache_subdir='')\n",
    "\n",
    "dataset_dir = os.path.join(os.path.dirname(dataset), 'aclImdb')\n",
    "\n",
    "train_dir = os.path.join(dataset_dir, 'train')\n",
    "\n",
    "# remove unused folders to make it easier to load the data\n",
    "remove_dir = os.path.join(train_dir, 'unsup')\n",
    "shutil.rmtree(remove_dir)"
   ]
  },
  {
   "cell_type": "code",
   "execution_count": 5,
   "metadata": {
    "colab": {
     "base_uri": "https://localhost:8080/"
    },
    "executionInfo": {
     "elapsed": 9566,
     "status": "ok",
     "timestamp": 1626457237836,
     "user": {
      "displayName": "Hiran Hasanka",
      "photoUrl": "https://lh3.googleusercontent.com/a-/AOh14GiFsqMEGOuhjtLJLY1JK3zomSh-kOTaJFp4VitFaA=s64",
      "userId": "12505453789699267562"
     },
     "user_tz": 420
    },
    "id": "sToGVHtZinFH",
    "outputId": "d7f1a551-70cf-4f06-b331-764798e31401"
   },
   "outputs": [
    {
     "name": "stdout",
     "output_type": "stream",
     "text": [
      "Found 25000 files belonging to 2 classes.\n",
      "Using 20000 files for training.\n",
      "Found 25000 files belonging to 2 classes.\n",
      "Using 5000 files for validation.\n",
      "Found 25000 files belonging to 2 classes.\n"
     ]
    }
   ],
   "source": [
    "AUTOTUNE = tf.data.AUTOTUNE\n",
    "batch_size = 32\n",
    "seed = 42\n",
    "\n",
    "raw_train_ds = tf.keras.preprocessing.text_dataset_from_directory(\n",
    "    'aclImdb/train',\n",
    "    batch_size=batch_size,\n",
    "    validation_split=0.2,\n",
    "    subset='training',\n",
    "    seed=seed)\n",
    "\n",
    "class_names = raw_train_ds.class_names\n",
    "train_ds = raw_train_ds.cache().prefetch(buffer_size=AUTOTUNE)\n",
    "\n",
    "val_ds = tf.keras.preprocessing.text_dataset_from_directory(\n",
    "    'aclImdb/train',\n",
    "    batch_size=batch_size,\n",
    "    validation_split=0.2,\n",
    "    subset='validation',\n",
    "    seed=seed)\n",
    "\n",
    "val_ds = val_ds.cache().prefetch(buffer_size=AUTOTUNE)\n",
    "\n",
    "test_ds = tf.keras.preprocessing.text_dataset_from_directory(\n",
    "    'aclImdb/test',\n",
    "    batch_size=batch_size)\n",
    "\n",
    "test_ds = test_ds.cache().prefetch(buffer_size=AUTOTUNE)"
   ]
  },
  {
   "cell_type": "code",
   "execution_count": 6,
   "metadata": {
    "colab": {
     "base_uri": "https://localhost:8080/"
    },
    "executionInfo": {
     "elapsed": 14,
     "status": "ok",
     "timestamp": 1626457237837,
     "user": {
      "displayName": "Hiran Hasanka",
      "photoUrl": "https://lh3.googleusercontent.com/a-/AOh14GiFsqMEGOuhjtLJLY1JK3zomSh-kOTaJFp4VitFaA=s64",
      "userId": "12505453789699267562"
     },
     "user_tz": 420
    },
    "id": "oQjcgSJRjWCV",
    "outputId": "2ffd9606-2648-4454-8247-c1a8e0867aaa"
   },
   "outputs": [
    {
     "name": "stdout",
     "output_type": "stream",
     "text": [
      "Review: b'\"Pandemonium\" is a horror movie spoof that comes off more stupid than funny. Believe me when I tell you, I love comedies. Especially comedy spoofs. \"Airplane\", \"The Naked Gun\" trilogy, \"Blazing Saddles\", \"High Anxiety\", and \"Spaceballs\" are some of my favorite comedies that spoof a particular genre. \"Pandemonium\" is not up there with those films. Most of the scenes in this movie had me sitting there in stunned silence because the movie wasn\\'t all that funny. There are a few laughs in the film, but when you watch a comedy, you expect to laugh a lot more than a few times and that\\'s all this film has going for it. Geez, \"Scream\" had more laughs than this film and that was more of a horror film. How bizarre is that?<br /><br />*1/2 (out of four)'\n",
      "Label : 0 (neg)\n",
      "Review: b\"David Mamet is a very interesting and a very un-equal director. His first movie 'House of Games' was the one I liked best, and it set a series of films with characters whose perspective of life changes as they get into complicated situations, and so does the perspective of the viewer.<br /><br />So is 'Homicide' which from the title tries to set the mind of the viewer to the usual crime drama. The principal characters are two cops, one Jewish and one Irish who deal with a racially charged area. The murder of an old Jewish shop owner who proves to be an ancient veteran of the Israeli Independence war triggers the Jewish identity in the mind and heart of the Jewish detective.<br /><br />This is were the flaws of the film are the more obvious. The process of awakening is theatrical and hard to believe, the group of Jewish militants is operatic, and the way the detective eventually walks to the final violent confrontation is pathetic. The end of the film itself is Mamet-like smart, but disappoints from a human emotional perspective.<br /><br />Joe Mantegna and William Macy give strong performances, but the flaws of the story are too evident to be easily compensated.\"\n",
      "Label : 0 (neg)\n",
      "Review: b'Great documentary about the lives of NY firefighters during the worst terrorist attack of all time.. That reason alone is why this should be a must see collectors item.. What shocked me was not only the attacks, but the\"High Fat Diet\" and physical appearance of some of these firefighters. I think a lot of Doctors would agree with me that,in the physical shape they were in, some of these firefighters would NOT of made it to the 79th floor carrying over 60 lbs of gear. Having said that i now have a greater respect for firefighters and i realize becoming a firefighter is a life altering job. The French have a history of making great documentary\\'s and that is what this is, a Great Documentary.....'\n",
      "Label : 1 (pos)\n"
     ]
    }
   ],
   "source": [
    "for text_batch, label_batch in train_ds.take(1):\n",
    "  for i in range(3):\n",
    "    print(f'Review: {text_batch.numpy()[i]}')\n",
    "    label = label_batch.numpy()[i]\n",
    "    print(f'Label : {label} ({class_names[label]})')"
   ]
  },
  {
   "cell_type": "code",
   "execution_count": 7,
   "metadata": {
    "executionInfo": {
     "elapsed": 2539,
     "status": "ok",
     "timestamp": 1626457240366,
     "user": {
      "displayName": "Hiran Hasanka",
      "photoUrl": "https://lh3.googleusercontent.com/a-/AOh14GiFsqMEGOuhjtLJLY1JK3zomSh-kOTaJFp4VitFaA=s64",
      "userId": "12505453789699267562"
     },
     "user_tz": 420
    },
    "id": "kgoIRFk4kFkn"
   },
   "outputs": [],
   "source": [
    "bert_preprocess_model = hub.KerasLayer(\"https://tfhub.dev/tensorflow/bert_en_uncased_preprocess/3\")"
   ]
  },
  {
   "cell_type": "code",
   "execution_count": 8,
   "metadata": {
    "colab": {
     "base_uri": "https://localhost:8080/"
    },
    "executionInfo": {
     "elapsed": 29,
     "status": "ok",
     "timestamp": 1626457240369,
     "user": {
      "displayName": "Hiran Hasanka",
      "photoUrl": "https://lh3.googleusercontent.com/a-/AOh14GiFsqMEGOuhjtLJLY1JK3zomSh-kOTaJFp4VitFaA=s64",
      "userId": "12505453789699267562"
     },
     "user_tz": 420
    },
    "id": "Q4RjXQpnnwhS",
    "outputId": "b50f6ae6-1091-4e37-bef1-8b7cb84628fa"
   },
   "outputs": [
    {
     "name": "stdout",
     "output_type": "stream",
     "text": [
      "Keys       : ['input_word_ids', 'input_type_ids', 'input_mask']\n",
      "Shape      : (1, 128)\n",
      "Word Ids   : [ 101 2023 2003 2107 2019 6429 3185  999  102    0    0    0]\n",
      "Input Mask : [1 1 1 1 1 1 1 1 1 0 0 0]\n",
      "Type Ids   : [0 0 0 0 0 0 0 0 0 0 0 0]\n"
     ]
    }
   ],
   "source": [
    "text_test = ['this is such an amazing movie!']\n",
    "text_preprocessed = bert_preprocess_model(text_test)\n",
    "\n",
    "print(f'Keys       : {list(text_preprocessed.keys())}')\n",
    "print(f'Shape      : {text_preprocessed[\"input_word_ids\"].shape}')\n",
    "print(f'Word Ids   : {text_preprocessed[\"input_word_ids\"][0, :12]}')\n",
    "print(f'Input Mask : {text_preprocessed[\"input_mask\"][0, :12]}')\n",
    "print(f'Type Ids   : {text_preprocessed[\"input_type_ids\"][0, :12]}')"
   ]
  },
  {
   "cell_type": "code",
   "execution_count": 9,
   "metadata": {
    "executionInfo": {
     "elapsed": 6865,
     "status": "ok",
     "timestamp": 1626457247216,
     "user": {
      "displayName": "Hiran Hasanka",
      "photoUrl": "https://lh3.googleusercontent.com/a-/AOh14GiFsqMEGOuhjtLJLY1JK3zomSh-kOTaJFp4VitFaA=s64",
      "userId": "12505453789699267562"
     },
     "user_tz": 420
    },
    "id": "AcS0yMX1zjNF"
   },
   "outputs": [],
   "source": [
    "bert_model = hub.KerasLayer('https://tfhub.dev/tensorflow/small_bert/bert_en_uncased_L-4_H-512_A-8/1')"
   ]
  },
  {
   "cell_type": "code",
   "execution_count": 10,
   "metadata": {
    "colab": {
     "base_uri": "https://localhost:8080/"
    },
    "executionInfo": {
     "elapsed": 3127,
     "status": "ok",
     "timestamp": 1626457250334,
     "user": {
      "displayName": "Hiran Hasanka",
      "photoUrl": "https://lh3.googleusercontent.com/a-/AOh14GiFsqMEGOuhjtLJLY1JK3zomSh-kOTaJFp4VitFaA=s64",
      "userId": "12505453789699267562"
     },
     "user_tz": 420
    },
    "id": "_JWVjqNP3SoQ",
    "outputId": "f3079dd4-7165-4794-a306-2964f6718829"
   },
   "outputs": [
    {
     "name": "stdout",
     "output_type": "stream",
     "text": [
      "Pooled Outputs Shape:(1, 512)\n",
      "Pooled Outputs Values:[ 0.76262903  0.99280983 -0.18611853  0.3667385   0.15233739  0.6550446\n",
      "  0.9681154  -0.9486271   0.00216157 -0.9877732   0.06842728 -0.97630596]\n",
      "Sequence Outputs Shape:(1, 128, 512)\n",
      "Sequence Outputs Values:[[-0.28946295  0.34321263  0.33231527 ...  0.2130087   0.71020836\n",
      "  -0.05771071]\n",
      " [-0.2874208   0.31981027 -0.23018518 ...  0.5845508  -0.21329744\n",
      "   0.7269212 ]\n",
      " [-0.66157013  0.6887687  -0.8743292  ...  0.10877226 -0.26173285\n",
      "   0.47855547]\n",
      " ...\n",
      " [-0.22561097 -0.2892568  -0.07064426 ...  0.47566074  0.83277184\n",
      "   0.40025318]\n",
      " [-0.29824227 -0.27473107 -0.05450526 ...  0.488498    1.0955358\n",
      "   0.18163362]\n",
      " [-0.4437815   0.00930744  0.07223801 ...  0.17290124  1.1833242\n",
      "   0.07898009]]\n"
     ]
    }
   ],
   "source": [
    "bert_results = bert_model(text_preprocessed)\n",
    "\n",
    "print(f'Pooled Outputs Shape:{bert_results[\"pooled_output\"].shape}')\n",
    "print(f'Pooled Outputs Values:{bert_results[\"pooled_output\"][0, :12]}')\n",
    "print(f'Sequence Outputs Shape:{bert_results[\"sequence_output\"].shape}')\n",
    "print(f'Sequence Outputs Values:{bert_results[\"sequence_output\"][0, :12]}')"
   ]
  },
  {
   "cell_type": "code",
   "execution_count": 11,
   "metadata": {
    "executionInfo": {
     "elapsed": 17,
     "status": "ok",
     "timestamp": 1626457250337,
     "user": {
      "displayName": "Hiran Hasanka",
      "photoUrl": "https://lh3.googleusercontent.com/a-/AOh14GiFsqMEGOuhjtLJLY1JK3zomSh-kOTaJFp4VitFaA=s64",
      "userId": "12505453789699267562"
     },
     "user_tz": 420
    },
    "id": "dhOO1tx93hk0"
   },
   "outputs": [],
   "source": [
    "def build_classifier_model():\n",
    "  text_input = tf.keras.layers.Input(shape=(), dtype=tf.string, name='text')\n",
    "  preprocessing_layer = hub.KerasLayer(\"https://tfhub.dev/tensorflow/bert_en_uncased_preprocess/3\", name='preprocessing')\n",
    "  encoder_inputs = preprocessing_layer(text_input)\n",
    "  encoder = hub.KerasLayer('https://tfhub.dev/tensorflow/small_bert/bert_en_uncased_L-4_H-512_A-8/1', trainable=True, name='BERT_encoder')\n",
    "  outputs = encoder(encoder_inputs)\n",
    "  net = outputs['pooled_output']\n",
    "  net = tf.keras.layers.Dropout(0.1)(net)\n",
    "  net = tf.keras.layers.Dense(1, activation=None, name='classifier')(net)\n",
    "  return tf.keras.Model(text_input, net)"
   ]
  },
  {
   "cell_type": "code",
   "execution_count": 12,
   "metadata": {
    "colab": {
     "base_uri": "https://localhost:8080/"
    },
    "executionInfo": {
     "elapsed": 7265,
     "status": "ok",
     "timestamp": 1626457257587,
     "user": {
      "displayName": "Hiran Hasanka",
      "photoUrl": "https://lh3.googleusercontent.com/a-/AOh14GiFsqMEGOuhjtLJLY1JK3zomSh-kOTaJFp4VitFaA=s64",
      "userId": "12505453789699267562"
     },
     "user_tz": 420
    },
    "id": "MKl7jeSF6qUF",
    "outputId": "43fa2453-0911-4234-b1b3-7de0a365a8d6"
   },
   "outputs": [
    {
     "name": "stdout",
     "output_type": "stream",
     "text": [
      "tf.Tensor([[0.41385993]], shape=(1, 1), dtype=float32)\n"
     ]
    }
   ],
   "source": [
    "classifier_model = build_classifier_model()\n",
    "bert_raw_result = classifier_model(tf.constant(text_test))\n",
    "print(tf.sigmoid(bert_raw_result))"
   ]
  },
  {
   "cell_type": "code",
   "execution_count": 13,
   "metadata": {
    "executionInfo": {
     "elapsed": 1024,
     "status": "ok",
     "timestamp": 1626457258598,
     "user": {
      "displayName": "Hiran Hasanka",
      "photoUrl": "https://lh3.googleusercontent.com/a-/AOh14GiFsqMEGOuhjtLJLY1JK3zomSh-kOTaJFp4VitFaA=s64",
      "userId": "12505453789699267562"
     },
     "user_tz": 420
    },
    "id": "_MR2kV_G7Ak6"
   },
   "outputs": [],
   "source": [
    "loss = tf.keras.losses.BinaryCrossentropy(from_logits=True)\n",
    "metrics = tf.metrics.BinaryAccuracy()"
   ]
  },
  {
   "cell_type": "code",
   "execution_count": 14,
   "metadata": {
    "executionInfo": {
     "elapsed": 21,
     "status": "ok",
     "timestamp": 1626457258598,
     "user": {
      "displayName": "Hiran Hasanka",
      "photoUrl": "https://lh3.googleusercontent.com/a-/AOh14GiFsqMEGOuhjtLJLY1JK3zomSh-kOTaJFp4VitFaA=s64",
      "userId": "12505453789699267562"
     },
     "user_tz": 420
    },
    "id": "slBuQHLx8vh_"
   },
   "outputs": [],
   "source": [
    "epochs = 5\n",
    "steps_per_epoch = tf.data.experimental.cardinality(train_ds).numpy()\n",
    "num_train_steps = steps_per_epoch * epochs\n",
    "num_warmup_steps = int(0.1*num_train_steps)\n",
    "\n",
    "init_lr = 3e-5\n",
    "optimizer = optimization.create_optimizer(init_lr=init_lr,\n",
    "                                          num_train_steps=num_train_steps,\n",
    "                                          num_warmup_steps=num_warmup_steps,\n",
    "                                          optimizer_type='adamw')"
   ]
  },
  {
   "cell_type": "code",
   "execution_count": 15,
   "metadata": {
    "executionInfo": {
     "elapsed": 19,
     "status": "ok",
     "timestamp": 1626457258600,
     "user": {
      "displayName": "Hiran Hasanka",
      "photoUrl": "https://lh3.googleusercontent.com/a-/AOh14GiFsqMEGOuhjtLJLY1JK3zomSh-kOTaJFp4VitFaA=s64",
      "userId": "12505453789699267562"
     },
     "user_tz": 420
    },
    "id": "qFEDaAc480Qn"
   },
   "outputs": [],
   "source": [
    "classifier_model.compile(optimizer=optimizer,\n",
    "                         loss=loss,\n",
    "                         metrics=metrics)"
   ]
  },
  {
   "cell_type": "code",
   "execution_count": 16,
   "metadata": {
    "colab": {
     "base_uri": "https://localhost:8080/"
    },
    "executionInfo": {
     "elapsed": 881394,
     "status": "ok",
     "timestamp": 1626458139978,
     "user": {
      "displayName": "Hiran Hasanka",
      "photoUrl": "https://lh3.googleusercontent.com/a-/AOh14GiFsqMEGOuhjtLJLY1JK3zomSh-kOTaJFp4VitFaA=s64",
      "userId": "12505453789699267562"
     },
     "user_tz": 420
    },
    "id": "50IE_pMD8_zo",
    "outputId": "849eff56-06b1-4a01-9804-32508855940c"
   },
   "outputs": [
    {
     "name": "stdout",
     "output_type": "stream",
     "text": [
      "Epoch 1/5\n",
      "625/625 [==============================] - 167s 259ms/step - loss: 0.4987 - binary_accuracy: 0.7326 - val_loss: 0.3887 - val_binary_accuracy: 0.8366\n",
      "Epoch 2/5\n",
      "625/625 [==============================] - 158s 252ms/step - loss: 0.3328 - binary_accuracy: 0.8481 - val_loss: 0.3817 - val_binary_accuracy: 0.8438\n",
      "Epoch 3/5\n",
      "625/625 [==============================] - 157s 252ms/step - loss: 0.2538 - binary_accuracy: 0.8947 - val_loss: 0.3884 - val_binary_accuracy: 0.8498\n",
      "Epoch 4/5\n",
      "625/625 [==============================] - 158s 252ms/step - loss: 0.1949 - binary_accuracy: 0.9247 - val_loss: 0.4351 - val_binary_accuracy: 0.8522\n",
      "Epoch 5/5\n",
      "625/625 [==============================] - 158s 253ms/step - loss: 0.1572 - binary_accuracy: 0.9403 - val_loss: 0.4748 - val_binary_accuracy: 0.8482\n"
     ]
    }
   ],
   "source": [
    "history = classifier_model.fit(x=train_ds,\n",
    "                               validation_data=val_ds,\n",
    "                               epochs=epochs)"
   ]
  },
  {
   "cell_type": "code",
   "execution_count": 17,
   "metadata": {
    "colab": {
     "base_uri": "https://localhost:8080/"
    },
    "executionInfo": {
     "elapsed": 89863,
     "status": "ok",
     "timestamp": 1626458254119,
     "user": {
      "displayName": "Hiran Hasanka",
      "photoUrl": "https://lh3.googleusercontent.com/a-/AOh14GiFsqMEGOuhjtLJLY1JK3zomSh-kOTaJFp4VitFaA=s64",
      "userId": "12505453789699267562"
     },
     "user_tz": 420
    },
    "id": "iGdJABAm9Eov",
    "outputId": "f49c0218-1a73-48b2-b6cb-59c0a1541184"
   },
   "outputs": [
    {
     "name": "stdout",
     "output_type": "stream",
     "text": [
      "782/782 [==============================] - 89s 114ms/step - loss: 0.4538 - binary_accuracy: 0.8556\n",
      "Loss: 0.453812837600708\n",
      "Accuracy: 0.8555600047111511\n"
     ]
    }
   ],
   "source": [
    "loss, accuracy = classifier_model.evaluate(test_ds)\n",
    "\n",
    "print(f'Loss: {loss}')\n",
    "print(f'Accuracy: {accuracy}')\n"
   ]
  },
  {
   "cell_type": "code",
   "execution_count": 18,
   "metadata": {
    "colab": {
     "base_uri": "https://localhost:8080/",
     "height": 441
    },
    "executionInfo": {
     "elapsed": 941,
     "status": "ok",
     "timestamp": 1626458270075,
     "user": {
      "displayName": "Hiran Hasanka",
      "photoUrl": "https://lh3.googleusercontent.com/a-/AOh14GiFsqMEGOuhjtLJLY1JK3zomSh-kOTaJFp4VitFaA=s64",
      "userId": "12505453789699267562"
     },
     "user_tz": 420
    },
    "id": "FkgXkJ_WdgnF",
    "outputId": "d2346349-b71e-4573-9c14-a67013df4420"
   },
   "outputs": [
    {
     "name": "stdout",
     "output_type": "stream",
     "text": [
      "dict_keys(['loss', 'binary_accuracy', 'val_loss', 'val_binary_accuracy'])\n"
     ]
    },
    {
     "data": {
      "text/plain": [
       "<matplotlib.legend.Legend at 0x7f0c2e4797d0>"
      ]
     },
     "execution_count": 18,
     "metadata": {
      "tags": []
     },
     "output_type": "execute_result"
    },
    {
     "data": {
      "image/png": "[encoded data removed]",
      "text/plain": [
       "<Figure size 720x432 with 2 Axes>"
      ]
     },
     "metadata": {
      "needs_background": "light",
      "tags": []
     },
     "output_type": "display_data"
    }
   ],
   "source": [
    "history_dict = history.history\n",
    "print(history_dict.keys())\n",
    "\n",
    "acc = history_dict['binary_accuracy']\n",
    "val_acc = history_dict['val_binary_accuracy']\n",
    "loss = history_dict['loss']\n",
    "val_loss = history_dict['val_loss']\n",
    "\n",
    "epochs = range(1, len(acc) + 1)\n",
    "fig = plt.figure(figsize=(10, 6))\n",
    "fig.tight_layout()\n",
    "\n",
    "plt.subplot(2, 1, 1)\n",
    "# \"bo\" is for \"blue dot\"\n",
    "plt.plot(epochs, loss, 'r', label='Training loss')\n",
    "# b is for \"solid blue line\"\n",
    "plt.plot(epochs, val_loss, 'b', label='Validation loss')\n",
    "plt.title('Training and validation loss')\n",
    "# plt.xlabel('Epochs')\n",
    "plt.ylabel('Loss')\n",
    "plt.legend()\n",
    "\n",
    "plt.subplot(2, 1, 2)\n",
    "plt.plot(epochs, acc, 'r', label='Training acc')\n",
    "plt.plot(epochs, val_acc, 'b', label='Validation acc')\n",
    "plt.title('Training and validation accuracy')\n",
    "plt.xlabel('Epochs')\n",
    "plt.ylabel('Accuracy')\n",
    "plt.legend(loc='lower right')\n"
   ]
  },
  {
   "cell_type": "code",
   "execution_count": 19,
   "metadata": {
    "colab": {
     "base_uri": "https://localhost:8080/"
    },
    "executionInfo": {
     "elapsed": 6505,
     "status": "ok",
     "timestamp": 1626458303065,
     "user": {
      "displayName": "Hiran Hasanka",
      "photoUrl": "https://lh3.googleusercontent.com/a-/AOh14GiFsqMEGOuhjtLJLY1JK3zomSh-kOTaJFp4VitFaA=s64",
      "userId": "12505453789699267562"
     },
     "user_tz": 420
    },
    "id": "lcGgnAHYd6OE",
    "outputId": "f45bd7f1-afdc-4197-e9f6-3871c7bf2ccc"
   },
   "outputs": [
    {
     "name": "stderr",
     "output_type": "stream",
     "text": [
      "WARNING:absl:Found untraced functions such as restored_function_body, restored_function_body, restored_function_body, restored_function_body, restored_function_body while saving (showing 5 of 310). These functions will not be directly callable after loading.\n"
     ]
    }
   ],
   "source": [
    "dataset_name = 'imdb'\n",
    "saved_model_path = './{}_smallbert'.format(dataset_name.replace('/', '_'))\n",
    "\n",
    "classifier_model.save(saved_model_path, include_optimizer=False)"
   ]
  },
  {
   "cell_type": "code",
   "execution_count": null,
   "metadata": {
    "id": "pXD_YP83eA6r"
   },
   "outputs": [],
   "source": []
  }
 ],
 "metadata": {
  "accelerator": "GPU",
  "colab": {
   "authorship_tag": "ABX9TyNMwLW7UPHVdLKEAkSH2AE7",
   "name": "mini_project_sentiment_analysis_small_bert_imdb_movies.ipynb",
   "provenance": []
  },
  "kernelspec": {
   "display_name": "Python 3",
   "language": "python",
   "name": "python3"
  },
  "language_info": {
   "codemirror_mode": {
    "name": "ipython",
    "version": 3
   },
   "file_extension": ".py",
   "mimetype": "text/x-python",
   "name": "python",
   "nbconvert_exporter": "python",
   "pygments_lexer": "ipython3",
   "version": "3.8.8"
  }
 },
 "nbformat": 4,
 "nbformat_minor": 4
}
